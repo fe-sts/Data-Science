{
 "cells": [
  {
   "cell_type": "markdown",
   "metadata": {},
   "source": [
    "## 0. Imports"
   ]
  },
  {
   "cell_type": "code",
   "execution_count": 1,
   "metadata": {
    "ExecuteTime": {
     "end_time": "2021-12-08T02:27:15.115895Z",
     "start_time": "2021-12-08T02:27:13.175276Z"
    }
   },
   "outputs": [],
   "source": [
    "import pandas as pd \n",
    "import numpy as np"
   ]
  },
  {
   "cell_type": "code",
   "execution_count": 2,
   "metadata": {
    "ExecuteTime": {
     "end_time": "2021-12-08T02:27:15.291784Z",
     "start_time": "2021-12-08T02:27:15.119854Z"
    }
   },
   "outputs": [],
   "source": [
    "data = pd.read_csv( '/Users/Felipe/Documents/Projetos/Data Science/Python do ZERO ao DS/2. Extração e Manipulação de Dados/kc_house_data.csv')"
   ]
  },
  {
   "cell_type": "markdown",
   "metadata": {},
   "source": [
    "### 1. Crie uma nova coluna chamada: “dormitory_type”\n",
    "#### Se o valor da coluna “bedrooms” for igual à 1 => ‘studio’\n",
    "#### Se o valor da coluna “bedrooms” for igual a 2 => ‘apartament’\n",
    "#### Se o valor da coluna “bedrooms” for maior que 2 => ‘house’"
   ]
  },
  {
   "cell_type": "code",
   "execution_count": 5,
   "metadata": {
    "ExecuteTime": {
     "end_time": "2021-12-08T02:32:07.543844Z",
     "start_time": "2021-12-08T02:32:07.533846Z"
    }
   },
   "outputs": [],
   "source": [
    "data['dormitory_type'] = 'NA'"
   ]
  },
  {
   "cell_type": "code",
   "execution_count": 15,
   "metadata": {
    "ExecuteTime": {
     "end_time": "2021-12-08T02:45:42.869302Z",
     "start_time": "2021-12-08T02:45:42.843310Z"
    }
   },
   "outputs": [],
   "source": [
    "data['dormitory_type'] = data['dormitory_type'].astype(str)"
   ]
  },
  {
   "cell_type": "code",
   "execution_count": 16,
   "metadata": {
    "ExecuteTime": {
     "end_time": "2021-12-08T02:45:53.696785Z",
     "start_time": "2021-12-08T02:45:53.682791Z"
    }
   },
   "outputs": [
    {
     "data": {
      "text/plain": [
       "id                  int64\n",
       "date               object\n",
       "price             float64\n",
       "bedrooms            int64\n",
       "bathrooms         float64\n",
       "sqft_living         int64\n",
       "sqft_lot            int64\n",
       "floors            float64\n",
       "waterfront          int64\n",
       "view                int64\n",
       "condition           int64\n",
       "grade               int64\n",
       "sqft_above          int64\n",
       "sqft_basement       int64\n",
       "yr_built            int64\n",
       "yr_renovated        int64\n",
       "zipcode             int64\n",
       "lat               float64\n",
       "long              float64\n",
       "sqft_living15       int64\n",
       "sqft_lot15          int64\n",
       "dormitory_type     object\n",
       "dtype: object"
      ]
     },
     "execution_count": 16,
     "metadata": {},
     "output_type": "execute_result"
    }
   ],
   "source": [
    "data.dtypes"
   ]
  },
  {
   "cell_type": "code",
   "execution_count": 19,
   "metadata": {
    "ExecuteTime": {
     "end_time": "2021-12-08T02:49:13.332374Z",
     "start_time": "2021-12-08T02:48:51.178528Z"
    }
   },
   "outputs": [],
   "source": [
    "for cont in range(len(data)):\n",
    "    if data.loc[cont, 'bedrooms'] == 1:\n",
    "        data.loc[cont, 'dormitory_type'] = 'studio'\n",
    "    elif data.loc[cont, 'bedrooms'] == 2:\n",
    "        data.loc[cont, 'dormitory_type'] = 'apartment'\n",
    "    elif data.loc[cont, 'bedrooms'] > 2:\n",
    "        data.loc[cont, 'dormitory_type'] = 'house'\n",
    "    else: data.loc[cont, 'dormitory_type'] = 'NA'     \n",
    "                  "
   ]
  },
  {
   "cell_type": "code",
   "execution_count": 21,
   "metadata": {
    "ExecuteTime": {
     "end_time": "2021-12-08T02:49:13.428354Z",
     "start_time": "2021-12-08T02:49:13.391361Z"
    }
   },
   "outputs": [
    {
     "data": {
      "text/plain": [
       "array(['NA', 'apartment', 'house', 'studio'], dtype=object)"
      ]
     },
     "execution_count": 21,
     "metadata": {},
     "output_type": "execute_result"
    }
   ],
   "source": [
    "np.unique(data['dormitory_type'])"
   ]
  }
 ],
 "metadata": {
  "hide_input": false,
  "kernelspec": {
   "display_name": "Python 3",
   "language": "python",
   "name": "python3"
  },
  "language_info": {
   "codemirror_mode": {
    "name": "ipython",
    "version": 3
   },
   "file_extension": ".py",
   "mimetype": "text/x-python",
   "name": "python",
   "nbconvert_exporter": "python",
   "pygments_lexer": "ipython3",
   "version": "3.8.5"
  }
 },
 "nbformat": 4,
 "nbformat_minor": 4
}
